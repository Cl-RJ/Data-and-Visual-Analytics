{
 "cells": [
  {
   "cell_type": "markdown",
   "metadata": {},
   "source": [
    "# HW3 - Q3 [35 pts]"
   ]
  },
  {
   "cell_type": "markdown",
   "metadata": {},
   "source": [
    "## Important Notices\n",
    "\n",
    "<div class=\"alert alert-block alert-danger\">\n",
    "    WARNING: <strong>REMOVE</strong> any print statements added to cells with \"#export\" that are used for debugging purposes befrore submitting because they will crash the autograder in Gradescope. Any additional cells can be used for testing purposes at the bottom. \n",
    "</div>\n",
    "\n",
    "<div class=\"alert alert-block alert-danger\">\n",
    "    WARNING: Do <strong>NOT</strong> remove any comment that says \"#export\" because that will crash the autograder in Gradescope. We use this comment to export your code in these cells for grading.\n",
    "</div>\n",
    "\n",
    "<div class=\"alert alert-block alert-danger\">\n",
    "    WARNING: Do <strong>NOT</strong> import any additional libraries into this workbook.\n",
    "</div>\n",
    "\n",
    "All instructions, code comments, etc. in this notebook **are part of the assignment instructions**. That is, if there is instructions about completing a task in this notebook, that task is not optional.  \n",
    "\n",
    "<div class=\"alert alert-block alert-info\">\n",
    "    You <strong>must</strong> implement the following functions in this notebook to receive credit.\n",
    "</div>\n",
    "\n",
    "`user()` - 1 point\n",
    "\n",
    "`trip_statistics()` - 3 points\n",
    "\n",
    "`busiest_hour()` - 5 points\n",
    "\n",
    "`most_freq_pickup_locations()` - 5 points\n",
    "\n",
    "`avg_trip_distance_and_duration()` - 6 points\n",
    "\n",
    "`most_freq_peak_hour_fares()` - 10 points\n",
    "\n",
    "Each function will be auto-graded using different sets of parameters or data, to ensure that values are not hard-coded.  You may assume we will only use your code to work with data from the NYC-TLC dataset during auto-grading.\n",
    "\n",
    "In addition, you will also submit the resulting output csv from most_freq_peak_hour_fares() as output_large.csv.\n",
    "\n",
    "`output_large.csv` - 5 points\n",
    "\n",
    "<div class=\"alert alert-block alert-danger\">\n",
    "    WARNING: Do <strong>NOT</strong> remove or modify the following utility functions:\n",
    "</div>\n",
    "\n",
    "`load_data()`\n",
    "\n",
    "`main()`"
   ]
  },
  {
   "cell_type": "markdown",
   "metadata": {},
   "source": [
    "<div class=\"alert alert-block alert-danger\">\n",
    "    WARNING: Do <strong>NOT</strong> remodify the below cell. It contains the function for loading data and all imports, and the function for running your code.\n",
    "</div>"
   ]
  },
  {
   "cell_type": "code",
   "execution_count": 1,
   "metadata": {},
   "outputs": [
    {
     "name": "stdout",
     "output_type": "stream",
     "text": [
      "Calculation started (calculation_id=b0cacb63-1e5c-755a-bd77-c4567888cc9e) in (session=40cacb62-efb9-2055-f295-b7e47950c81c). Checking calculation status...\n"
     ]
    },
    {
     "data": {
      "application/vnd.jupyter.widget-view+json": {
       "model_id": "dae0d03fa15c442fbff6c60e78fb9364",
       "version_major": 2,
       "version_minor": 0
      },
      "text/plain": [
       "Progress:   0%|          |elapsed time = 00:00s"
      ]
     },
     "metadata": {},
     "output_type": "display_data"
    },
    {
     "name": "stdout",
     "output_type": "stream",
     "text": [
      "Calculation completed.\n"
     ]
    }
   ],
   "source": [
    "#export\n",
    "from pyspark.sql.functions import *\n",
    "from pyspark.sql import *"
   ]
  },
  {
   "cell_type": "code",
   "execution_count": 2,
   "metadata": {},
   "outputs": [
    {
     "name": "stdout",
     "output_type": "stream",
     "text": [
      "Calculation started (calculation_id=fccacb63-29c4-511b-d1c8-b6db159570be) in (session=40cacb62-efb9-2055-f295-b7e47950c81c). Checking calculation status...\n"
     ]
    },
    {
     "data": {
      "application/vnd.jupyter.widget-view+json": {
       "model_id": "1ace0b791565455db78c342aaac521b3",
       "version_major": 2,
       "version_minor": 0
      },
      "text/plain": [
       "Progress:   0%|          |elapsed time = 00:00s"
      ]
     },
     "metadata": {},
     "output_type": "display_data"
    },
    {
     "name": "stdout",
     "output_type": "stream",
     "text": [
      "Calculation completed.\n"
     ]
    }
   ],
   "source": [
    "#### DO NOT CHANGE ANYTHING IN THIS CELL ####\n",
    "\n",
    "def load_data(size='small'):\n",
    "    # Loads the data for this question. Do not change this function.\n",
    "    # This function should only be called with the parameter 'small' or 'large'\n",
    "    \n",
    "    if size != 'small' and size != 'large':\n",
    "        print(\"Invalid size parameter provided. Use only 'small' or 'large'.\")\n",
    "        return\n",
    "    \n",
    "    input_bucket = \"s3://cse6242-hw3-q3\"\n",
    "    \n",
    "    # Load Trip Data\n",
    "    trips_path = '/'+size+'/yellow_tripdata*'\n",
    "    trips = spark.read.csv(input_bucket + trips_path, header=True, inferSchema=True)\n",
    "    \n",
    "    # Load Zone Data\n",
    "    zones_path = '/'+size+'/taxi*'\n",
    "    zones = spark.read.csv(input_bucket + zones_path, header=True, inferSchema=True)\n",
    "    \n",
    "    return trips, zones\n",
    "    \n",
    "def main(size, bucket):\n",
    "    # Runs your functions\n",
    "    trips, zones = load_data(size=size)\n",
    "    \n",
    "    print(\"User:\", user())\n",
    "    print()\n",
    "    \n",
    "    print(\"Trip Statistics:\")\n",
    "    ts = trip_statistics(trips)\n",
    "    ts.show()\n",
    "    print()\n",
    "    \n",
    "    print(\"Busiest Hour:\")\n",
    "    bh = busiest_hour(trips)\n",
    "    bh.show(24)\n",
    "    print()\n",
    "    \n",
    "    print(\"Most Frequent Pickup Locations:\")\n",
    "    mfpl = most_freq_pickup_locations(trips)\n",
    "    mfpl.show()\n",
    "    print()\n",
    "    \n",
    "    print(\"Average Trip Distance and Duration:\")\n",
    "    atdd = avg_trip_distance_and_duration(trips)\n",
    "    atdd.show(n=24)\n",
    "    print()\n",
    "    \n",
    "    print(\"Most Frequent Peak Hour Fares:\")\n",
    "    mfphf = most_freq_peak_hour_fares(trips, zones)\n",
    "    mfphf.show()\n",
    "    mfphf.coalesce(1).write.option(\"header\",\"true\").mode(\"overwrite\").csv('{}/output_{}'.format(bucket, size))"
   ]
  },
  {
   "cell_type": "markdown",
   "metadata": {},
   "source": [
    "# Implement the below functions for this assignment:\n",
    "<div class=\"alert alert-block alert-danger\">\n",
    "    WARNING: Do <strong>NOT</strong> change any function inputs or outputs, and ensure that the dataframes your code returns align with the schema definitions commented in each function. Do <strong>NOT</strong> remove the #export comment from each of the code blocks either. This can prevent your code from being converted to a python file.\n",
    "</div>"
   ]
  },
  {
   "cell_type": "markdown",
   "metadata": {},
   "source": [
    "## 3.1 [1 pt] Update the `user()` function\n",
    "This function should return your GT username, eg: gburdell3"
   ]
  },
  {
   "cell_type": "code",
   "execution_count": 3,
   "metadata": {},
   "outputs": [
    {
     "name": "stdout",
     "output_type": "stream",
     "text": [
      "Calculation started (calculation_id=7ecacb63-34f5-9176-4c7d-0b45af0e63a9) in (session=40cacb62-efb9-2055-f295-b7e47950c81c). Checking calculation status...\n"
     ]
    },
    {
     "data": {
      "application/vnd.jupyter.widget-view+json": {
       "model_id": "73de6963c5784701917dd78ec1a798a4",
       "version_major": 2,
       "version_minor": 0
      },
      "text/plain": [
       "Progress:   0%|          |elapsed time = 00:00s"
      ]
     },
     "metadata": {},
     "output_type": "display_data"
    },
    {
     "name": "stdout",
     "output_type": "stream",
     "text": [
      "Calculation completed.\n"
     ]
    }
   ],
   "source": [
    "#export\n",
    "def user():\n",
    "    return 'rpeng37'"
   ]
  },
  {
   "cell_type": "markdown",
   "metadata": {},
   "source": [
    "## 3.2 [3 pts] Update the `trip_statistics()` function\n",
    "This function performs exploratory data analysis on the column trip_distance. Compute basic statistics (count, mean, stdev, min, max) for trip_distance. \n",
    "\n",
    "Example output formatting:\n",
    "\n",
    "```\n",
    "+-------+------------------+\n",
    "|summary|     trip_distance|\n",
    "+-------+------------------+\n",
    "|  count|           xxxxxxx|\n",
    "|   mean|           xxxxxxx|\n",
    "| stddev|           xxxxxxx|\n",
    "|    min|           xxxxxxx|\n",
    "|    max|           xxxxxxx|\n",
    "+-------+------------------+\n",
    "```\n",
    "Tip: Is there a PySpark Dataframe function you can use to solve this in a single line?"
   ]
  },
  {
   "cell_type": "code",
   "execution_count": 4,
   "metadata": {},
   "outputs": [
    {
     "name": "stdout",
     "output_type": "stream",
     "text": [
      "Calculation started (calculation_id=5acacb63-7be4-020c-a57b-405414a8894e) in (session=40cacb62-efb9-2055-f295-b7e47950c81c). Checking calculation status...\n"
     ]
    },
    {
     "data": {
      "application/vnd.jupyter.widget-view+json": {
       "model_id": "3c4a9759889b4adf8d74eff9bed4e8eb",
       "version_major": 2,
       "version_minor": 0
      },
      "text/plain": [
       "Progress:   0%|          |elapsed time = 00:00s"
      ]
     },
     "metadata": {},
     "output_type": "display_data"
    },
    {
     "name": "stdout",
     "output_type": "stream",
     "text": [
      "Calculation completed.\n"
     ]
    }
   ],
   "source": [
    "#export\n",
    "def trip_statistics(trips):\n",
    "    return trips.select(\"trip_distance\").summary(\"count\", \"mean\", \"stddev\", \"min\", \"max\")"
   ]
  },
  {
   "cell_type": "markdown",
   "metadata": {},
   "source": [
    "## 3.3 [5 pts] Update the `busiest_hour()` function\n",
    "\n",
    "Determine the hour of the day with the highest number of trips. Display the hour (0-23) and the corresponding trip count. \n",
    "\n",
    "Returns a PySpark DataFrame with a single row showing the hour with the highest trip count and the corresponding number of trips. Schema (hour, trip_count) \n",
    "\n",
    "Example output formatting:\n",
    "\n",
    "```\n",
    "+----+----------+\n",
    "|hour|trip_count|\n",
    "+----+----------+\n",
    "|  xx|    xxxxxx|\n",
    "+----+----------+\n",
    "```"
   ]
  },
  {
   "cell_type": "code",
   "execution_count": 12,
   "metadata": {},
   "outputs": [
    {
     "name": "stdout",
     "output_type": "stream",
     "text": [
      "Calculation started (calculation_id=a6cacb68-d34a-29ca-1727-7884a3e7e4aa) in (session=40cacb62-efb9-2055-f295-b7e47950c81c). Checking calculation status...\n"
     ]
    },
    {
     "data": {
      "application/vnd.jupyter.widget-view+json": {
       "model_id": "04f7f1a59b94477c96c01163774eb05c",
       "version_major": 2,
       "version_minor": 0
      },
      "text/plain": [
       "Progress:   0%|          |elapsed time = 00:00s"
      ]
     },
     "metadata": {},
     "output_type": "display_data"
    },
    {
     "name": "stdout",
     "output_type": "stream",
     "text": [
      "Calculation completed.\n"
     ]
    }
   ],
   "source": [
    "#export\n",
    "from pyspark.sql import functions as F\n",
    "\n",
    "def busiest_hour(trips):\n",
    "    df = trips.withColumn(\"hour\", hour(\"tpep_pickup_datetime\"))\n",
    "    result = df.groupBy(\"hour\").agg(count(\"*\").alias(\"trip_count\")) \\\n",
    "               .orderBy(F.desc(\"trip_count\")) \\\n",
    "               .limit(1)\n",
    "    return result"
   ]
  },
  {
   "cell_type": "markdown",
   "metadata": {},
   "source": [
    "## 3.4 [5 pts] Update the `most_freq_pickup_locations()` function\n",
    "Top 10 Most Frequent Pickup Locations\n",
    "\n",
    "Identify the top 10 pickup locations (by PULocationID) with the highest number of trips. Display the location IDs along with their corresponding trip counts.\n",
    "\n",
    "Example output formatting:\n",
    "```\n",
    "+------------+----------+\n",
    "|PULocationID|trip_count|\n",
    "+------------+----------+\n",
    "|         xxx|    xxxxxx|\n",
    "|         xxx|    xxxxxx|\n",
    "|         xxx|    xxxxxx|\n",
    "|         xxx|    xxxxxx|\n",
    "|         ...|    ......|\n",
    "+------------+----------+\n",
    "```"
   ]
  },
  {
   "cell_type": "code",
   "execution_count": 6,
   "metadata": {},
   "outputs": [
    {
     "name": "stdout",
     "output_type": "stream",
     "text": [
      "Calculation started (calculation_id=6acacb64-1cad-e5f1-166e-eb55d008bf60) in (session=40cacb62-efb9-2055-f295-b7e47950c81c). Checking calculation status...\n"
     ]
    },
    {
     "data": {
      "application/vnd.jupyter.widget-view+json": {
       "model_id": "af908c4ad26d4f76bec05100c13e1505",
       "version_major": 2,
       "version_minor": 0
      },
      "text/plain": [
       "Progress:   0%|          |elapsed time = 00:00s"
      ]
     },
     "metadata": {},
     "output_type": "display_data"
    },
    {
     "name": "stdout",
     "output_type": "stream",
     "text": [
      "Calculation completed.\n"
     ]
    }
   ],
   "source": [
    "#export\n",
    "def most_freq_pickup_locations(trips): \n",
    "    result = trips.groupBy(\"PULocationID\").agg(count(\"*\").alias(\"trip_count\")) \\\n",
    "                .orderBy(F.desc(\"trip_count\")) \\\n",
    "                .limit(10)\n",
    "    return result"
   ]
  },
  {
   "cell_type": "markdown",
   "metadata": {},
   "source": [
    "## 3.5 [6 pts] Update the `avg_trip_distance_and_duration()` function\n",
    "Average Trip Distance and Duration by Hour\n",
    "\n",
    "Calculate the average trip distance and average trip duration in minutes (i.e., divided by 60) for each hour of the day (0-23). Display the hour along with the corresponding averages. To be a valid trip, it must have a non-null timestamp and a trip distance greater than zero.\n",
    "\n",
    "Note: You can use `unix_timestamp` to help with calculating the duration. If there are null or invalid timestamps, you will want to handle those accordingly. \n",
    "\n",
    "Expected Output:\n",
    "\n",
    "A table with 24 rows showing each hour (0-23) along with the average trip distance and average trip duration for that hour.\n",
    "\n",
    "Example output formatting:\n",
    "```\n",
    "+----+------------------+------------------+\n",
    "|hour| avg_trip_distance| avg_trip_duration|\n",
    "+----+------------------+------------------+\n",
    "|   0|           xxxxxxx|           xxxxxxx|\n",
    "|   1|           xxxxxxx|           xxxxxxx|\n",
    "|   2|           xxxxxxx|           xxxxxxx|\n",
    "|   3|           xxxxxxx|           xxxxxxx|\n",
    "| ...|               ...|               ...|\n",
    "|  23|           xxxxxxx|           xxxxxxx|\n",
    "+----+------------------+------------------+\n",
    "```"
   ]
  },
  {
   "cell_type": "code",
   "execution_count": 21,
   "metadata": {},
   "outputs": [
    {
     "name": "stdout",
     "output_type": "stream",
     "text": [
      "Calculation started (calculation_id=20cacb6d-8675-1198-2367-d361366384f6) in (session=40cacb62-efb9-2055-f295-b7e47950c81c). Checking calculation status...\n"
     ]
    },
    {
     "data": {
      "application/vnd.jupyter.widget-view+json": {
       "model_id": "437f79f4f313453cbffee12de6b8eddb",
       "version_major": 2,
       "version_minor": 0
      },
      "text/plain": [
       "Progress:   0%|          |elapsed time = 00:00s"
      ]
     },
     "metadata": {},
     "output_type": "display_data"
    },
    {
     "name": "stdout",
     "output_type": "stream",
     "text": [
      "Calculation completed.\n"
     ]
    }
   ],
   "source": [
    "#export\n",
    "def avg_trip_distance_and_duration(trips):\n",
    "    valid = trips.filter((F.col(\"tpep_pickup_datetime\").isNotNull()) & (F.col(\"trip_distance\") > 0))\n",
    "    valid = valid.withColumn(\"hour\", hour(\"tpep_pickup_datetime\"))\n",
    "    valid = valid.withColumn(\"duration_minutes\", (unix_timestamp(\"tpep_dropoff_datetime\") - unix_timestamp(\"tpep_pickup_datetime\"))/60)\n",
    "    result = valid.groupBy(\"hour\") \\\n",
    "                  .agg(avg(\"trip_distance\").alias(\"avg_trip_distance\"),\n",
    "                       avg(\"duration_minutes\").alias(\"avg_trip_duration\")) \\\n",
    "                  .orderBy(\"hour\")\n",
    "    return result"
   ]
  },
  {
   "cell_type": "markdown",
   "metadata": {},
   "source": [
    "## 3.6 [10 pts] Update the `most_freq_peak_hour_fares()` function\n",
    "Top 10 Most Frequent Routes During Peak Hour \n",
    "\n",
    "Identify the top 10 most frequent routes (combinations of PULocationID and DOLocationID) during peak hours (7 AM - 9 AM and 4 PM - 7 PM). Peak hours can be defined as 7 <= hour < 9 and 16 <= hour < 19. Display the pickup and drop-off location ID pairs along with their trip counts and average total fare rounded to two decimal places. \n",
    "\n",
    "Note: A route must have a different drop off location from pickup location to be considered a valid route.\n",
    "\n",
    "Expected Output:\n",
    "\n",
    "A table showing the top 10 routes during peak hours with their trip counts and average total fare rounded to two decimal places. Each route is represented as a combination of PULocationID-DOLocationID and PULocationID should not be the same as DOLocationID.\n",
    "\n",
    "Example output formatting:\n",
    "```\n",
    "+------------+------+------------+------+----------+--------------+\n",
    "|PULocationID|PUZone|DOLocationID|DOZone|trip_count|avg_total_fare|\n",
    "+------------+------+------------+------+----------+--------------+\n",
    "|xxx         |xxx   |xxx         |xxx   |xxx       |xx.xx         |\n",
    "|xxx         |xxx   |xxx         |xxx   |xxx       |xx.xx         |\n",
    "|xxx         |xxx   |xxx         |xxx   |xxx       |xx.xx         |\n",
    "|...         |...   |...         |...   |...       |...           |\n",
    "+------------+------+------------+------+----------+--------------|\n",
    "\n",
    "```"
   ]
  },
  {
   "cell_type": "code",
   "execution_count": 29,
   "metadata": {},
   "outputs": [
    {
     "name": "stdout",
     "output_type": "stream",
     "text": [
      "Calculation started (calculation_id=f0cacb76-a6b0-fdfc-4bfc-7a8ef1e7e756) in (session=40cacb62-efb9-2055-f295-b7e47950c81c). Checking calculation status...\n"
     ]
    },
    {
     "data": {
      "application/vnd.jupyter.widget-view+json": {
       "model_id": "65e86b3b4f854812b280bc2a88248562",
       "version_major": 2,
       "version_minor": 0
      },
      "text/plain": [
       "Progress:   0%|          |elapsed time = 00:00s"
      ]
     },
     "metadata": {},
     "output_type": "display_data"
    },
    {
     "name": "stdout",
     "output_type": "stream",
     "text": [
      "Calculation completed.\n"
     ]
    }
   ],
   "source": [
    "#export\n",
    "from pyspark.sql import functions as F\n",
    "\n",
    "def most_freq_peak_hour_fares(trips, zones):\n",
    "    trips_with_hour = trips.withColumn(\"hour\", F.hour(\"tpep_pickup_datetime\"))\n",
    "    trips_peak = trips_with_hour.filter(\n",
    "        (F.col(\"PULocationID\") != F.col(\"DOLocationID\")) &\n",
    "        (\n",
    "            ((F.col(\"hour\") >= 7) & (F.col(\"hour\") < 9)) |\n",
    "            ((F.col(\"hour\") >= 16) & (F.col(\"hour\") < 19))\n",
    "        )\n",
    "    )\n",
    "    grouped = trips_peak.groupBy(\"PULocationID\", \"DOLocationID\") \\\n",
    "               .agg(\n",
    "                   F.count(\"*\").alias(\"trip_count\"),\n",
    "                   F.avg(\"total_amount\").alias(\"avg_total_fare\")\n",
    "               )\n",
    "    grouped = grouped.withColumn(\"avg_total_fare\", F.round(\"avg_total_fare\", 2))\n",
    "    top_routes = grouped.orderBy(F.desc(\"trip_count\")).limit(10)\n",
    "    zones_pickup = zones.withColumnRenamed(\"LocationID\", \"PU_ID\") \\\n",
    "                         .withColumnRenamed(\"Zone\", \"PUZone\")\n",
    "    top_routes = top_routes.join(zones_pickup, top_routes.PULocationID == F.col(\"PU_ID\"), \"left\").drop(\"PU_ID\")\n",
    "    zones_dropoff = zones.withColumnRenamed(\"LocationID\", \"DO_ID\") \\\n",
    "                          .withColumnRenamed(\"Zone\", \"DOZone\")\n",
    "    top_routes = top_routes.join(zones_dropoff, top_routes.DOLocationID == F.col(\"DO_ID\"), \"left\").drop(\"DO_ID\")\n",
    "    result = top_routes.select(\"PULocationID\", \"PUZone\", \"DOLocationID\", \"DOZone\", \"trip_count\", \"avg_total_fare\")\n",
    "    \n",
    "    return result"
   ]
  },
  {
   "cell_type": "markdown",
   "metadata": {},
   "source": [
    "<div class=\"alert alert-block alert-info\">\n",
    "Once you have finished coding, you can export the notebook from `Notebook Explorer` by selecting your notebook and clicking `Export File` from the Actions dropdown.\n",
    "</div>"
   ]
  },
  {
   "cell_type": "markdown",
   "metadata": {},
   "source": [
    "#### Testing\n",
    "\n",
    "<div class=\"alert alert-block alert-info\">\n",
    "    You may use the below cell for any additional testing you need to do, however any code implemented below will not be ran or used when grading. You can run the main function over the different sized datasets for testing your functions or you run them individually like in the examples below. To get the final output csv, you will need to run most_freq_peak_hour_fares(trips, zones) using the large dataset and write the resulting dataframe to a csv. The main function will do this for you, or you can do it yourself.\n",
    "</div>"
   ]
  },
  {
   "cell_type": "code",
   "execution_count": 9,
   "metadata": {},
   "outputs": [
    {
     "name": "stdout",
     "output_type": "stream",
     "text": [
      "Calculation started (calculation_id=6acacb66-3a83-9291-64a0-db9d22096ecd) in (session=40cacb62-efb9-2055-f295-b7e47950c81c). Checking calculation status...\n"
     ]
    },
    {
     "data": {
      "application/vnd.jupyter.widget-view+json": {
       "model_id": "560625636e40452397c3b02066075ff1",
       "version_major": 2,
       "version_minor": 0
      },
      "text/plain": [
       "Progress:   0%|          |elapsed time = 00:00s"
      ]
     },
     "metadata": {},
     "output_type": "display_data"
    },
    {
     "name": "stdout",
     "output_type": "stream",
     "text": [
      "Calculation completed.\n"
     ]
    }
   ],
   "source": [
    "trips, zones = load_data('small')"
   ]
  },
  {
   "cell_type": "code",
   "execution_count": 31,
   "metadata": {},
   "outputs": [
    {
     "name": "stdout",
     "output_type": "stream",
     "text": [
      "Calculation started (calculation_id=fccacb7a-1006-c5e0-f2d7-a564652bac29) in (session=40cacb62-efb9-2055-f295-b7e47950c81c). Checking calculation status...\n"
     ]
    },
    {
     "data": {
      "application/vnd.jupyter.widget-view+json": {
       "model_id": "4cddb9d93d694ec3a1556834db68efe7",
       "version_major": 2,
       "version_minor": 0
      },
      "text/plain": [
       "Progress:   0%|          |elapsed time = 00:00s"
      ]
     },
     "metadata": {},
     "output_type": "display_data"
    },
    {
     "name": "stdout",
     "output_type": "stream",
     "text": [
      "Calculation completed.\n",
      "+------------+--------------------+------------+--------------------+----------+--------------+\n",
      "|PULocationID|              PUZone|DOLocationID|              DOZone|trip_count|avg_total_fare|\n",
      "+------------+--------------------+------------+--------------------+----------+--------------+\n",
      "|         237|Upper East Side S...|         236|Upper East Side N...|     16436|          8.68|\n",
      "|         236|Upper East Side N...|         237|Upper East Side S...|     13196|          9.26|\n",
      "|         239|Upper West Side S...|         238|Upper West Side N...|      7962|          7.77|\n",
      "|         238|Upper West Side N...|         239|Upper West Side S...|      7319|          7.73|\n",
      "|         239|Upper West Side S...|         142| Lincoln Square East|      7062|          8.22|\n",
      "|         237|Upper East Side S...|         162|        Midtown East|      6651|          9.18|\n",
      "|         142| Lincoln Square East|         239|Upper West Side S...|      6609|          8.38|\n",
      "|         141|     Lenox Hill West|         236|Upper East Side N...|      6604|          8.75|\n",
      "|         237|Upper East Side S...|         161|      Midtown Center|      6411|         10.16|\n",
      "|         186|Penn Station/Madi...|         161|      Midtown Center|      5960|         11.31|\n",
      "+------------+--------------------+------------+--------------------+----------+--------------+\n",
      "\n"
     ]
    }
   ],
   "source": [
    "# ts = most_freq_peak_hour_fares(trips)\n",
    "ts = most_freq_peak_hour_fares(trips, zones)\n",
    "ts.show()"
   ]
  },
  {
   "cell_type": "code",
   "execution_count": 32,
   "metadata": {},
   "outputs": [
    {
     "name": "stdout",
     "output_type": "stream",
     "text": [
      "Calculation started (calculation_id=80cacb7a-3a2b-a46a-ae90-23fa3347dca5) in (session=40cacb62-efb9-2055-f295-b7e47950c81c). Checking calculation status...\n"
     ]
    },
    {
     "data": {
      "application/vnd.jupyter.widget-view+json": {
       "model_id": "e02dce6b1dac4f2b8ce7122910e53278",
       "version_major": 2,
       "version_minor": 0
      },
      "text/plain": [
       "Progress:   0%|          |elapsed time = 00:00s"
      ]
     },
     "metadata": {},
     "output_type": "display_data"
    },
    {
     "name": "stdout",
     "output_type": "stream",
     "text": [
      "Calculation completed.\n",
      "User: rpeng37\n",
      "\n",
      "Trip Statistics:\n",
      "+-------+------------------+\n",
      "|summary|     trip_distance|\n",
      "+-------+------------------+\n",
      "|  count|         187203269|\n",
      "|   mean| 2.964925180927189|\n",
      "| stddev|15.179487744870528|\n",
      "|    min|              -.01|\n",
      "|    max|             99.95|\n",
      "+-------+------------------+\n",
      "\n",
      "\n",
      "Busiest Hour:\n",
      "+----+----------+\n",
      "|hour|trip_count|\n",
      "+----+----------+\n",
      "|  18|  12112144|\n",
      "+----+----------+\n",
      "\n",
      "\n",
      "Most Frequent Pickup Locations:\n",
      "+------------+----------+\n",
      "|PULocationID|trip_count|\n",
      "+------------+----------+\n",
      "|         237|   7899292|\n",
      "|         161|   7401958|\n",
      "|         236|   7153325|\n",
      "|         162|   6655847|\n",
      "|         186|   6518420|\n",
      "|         230|   6386265|\n",
      "|          48|   5944600|\n",
      "|         170|   5915604|\n",
      "|         234|   5742552|\n",
      "|         142|   5609771|\n",
      "+------------+----------+\n",
      "\n",
      "\n",
      "Average Trip Distance and Duration:\n",
      "+----+------------------+------------------+\n",
      "|hour| avg_trip_distance| avg_trip_duration|\n",
      "+----+------------------+------------------+\n",
      "|   0| 4.159782019662318|18.579009038891282|\n",
      "|   1|  3.95310624653493|18.802600082451047|\n",
      "|   2|3.7804547200031577| 17.50353694096036|\n",
      "|   3| 4.041158769799046| 18.15906592764096|\n",
      "|   4| 5.074613052790237|19.186310711592135|\n",
      "|   5| 5.718404889039993| 20.16642008098028|\n",
      "|   6| 4.420002079711072|19.707520954273065|\n",
      "|   7|3.7063033758572517|18.591498052151504|\n",
      "|   8| 3.454493433380613| 21.52318047166898|\n",
      "|   9|3.4410143891259852|21.448675557865187|\n",
      "|  10|3.5224724973093156|21.420364529966154|\n",
      "|  11|3.5164743038456305|21.906603628095848|\n",
      "|  12|3.6034176082113025|22.319452316056587|\n",
      "|  13|3.7978337566767664|22.801542761591353|\n",
      "|  14|3.9269041250214705|24.245562786489835|\n",
      "|  15| 3.849457823513597|24.629274733428172|\n",
      "|  16|3.9441534205774835|24.923814054763245|\n",
      "|  17|3.6789483873431372|23.715452343302086|\n",
      "|  18| 3.436455403922931| 21.55555435952721|\n",
      "|  19|3.4590666018228777|   19.625021403324|\n",
      "|  20|3.7045508920268646|12.872219591597533|\n",
      "|  21|3.7829386626491335|18.640049051760542|\n",
      "|  22|3.8251908657227074| 18.56293902065958|\n",
      "|  23| 4.038674583024236| 18.60199753741971|\n",
      "+----+------------------+------------------+\n",
      "\n",
      "\n",
      "Most Frequent Peak Hour Fares:\n",
      "+------------+--------------------+------------+--------------------+----------+--------------+\n",
      "|PULocationID|              PUZone|DOLocationID|              DOZone|trip_count|avg_total_fare|\n",
      "+------------+--------------------+------------+--------------------+----------+--------------+\n",
      "|         237|Upper East Side S...|         236|Upper East Side N...|    359114|          9.98|\n",
      "|         236|Upper East Side N...|         237|Upper East Side S...|    297651|         10.59|\n",
      "|         237|Upper East Side S...|         162|        Midtown East|    166668|         10.42|\n",
      "|         239|Upper West Side S...|         238|Upper West Side N...|    155931|          8.95|\n",
      "|         237|Upper East Side S...|         161|      Midtown Center|    155542|         11.71|\n",
      "|         239|Upper West Side S...|         142| Lincoln Square East|    153014|          9.38|\n",
      "|         238|Upper West Side N...|         239|Upper West Side S...|    146395|          8.85|\n",
      "|         141|     Lenox Hill West|         236|Upper East Side N...|    138760|          9.91|\n",
      "|         142| Lincoln Square East|         239|Upper West Side S...|    137855|          9.82|\n",
      "|         186|Penn Station/Madi...|         161|      Midtown Center|    128743|         12.98|\n",
      "+------------+--------------------+------------+--------------------+----------+--------------+\n",
      "\n"
     ]
    }
   ],
   "source": [
    "main('large', 's3://cse6242-rpeng37')"
   ]
  }
 ],
 "metadata": {
  "kernelspec": {
   "display_name": "Athena PySpark",
   "language": "python",
   "name": "kepler_python_kernel"
  },
  "language_info": {
   "codemirror_mode": {
    "name": "python",
    "version": 3
   },
   "file_extension": ".py",
   "mimetype": "text/x-python",
   "name": "Python_Session",
   "pygments_lexer": "python3"
  }
 },
 "nbformat": 4,
 "nbformat_minor": 4
}
